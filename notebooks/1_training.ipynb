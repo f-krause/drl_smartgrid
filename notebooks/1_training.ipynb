{
 "cells": [
  {
   "cell_type": "markdown",
   "metadata": {},
   "source": [
    "# PPO with stable baseline"
   ]
  },
  {
   "cell_type": "markdown",
   "metadata": {},
   "source": [
    "## 1) Setup parameters & data"
   ]
  },
  {
   "cell_type": "code",
   "execution_count": 1,
   "metadata": {
    "tags": [],
    "ExecuteTime": {
     "end_time": "2023-10-22T15:09:27.880732200Z",
     "start_time": "2023-10-22T15:09:22.636952100Z"
    }
   },
   "outputs": [
    {
     "name": "stdout",
     "output_type": "stream",
     "text": [
      "C:\\Code\\drl_smartgrid\n"
     ]
    }
   ],
   "source": [
    "from stable_baselines3 import PPO, A2C\n",
    "from stable_baselines3.common.logger import configure\n",
    "import matplotlib.pyplot as plt\n",
    "import numpy as np\n",
    "import pandas as pd\n",
    "import json\n",
    "\n",
    "%cd ..\n",
    "from src.microgrid_env import MicrogridEnv\n",
    "from src.get_data import get_data_dict_simple, get_test_dict\n",
    "from src.utils import RenderCallback"
   ]
  },
  {
   "cell_type": "markdown",
   "metadata": {},
   "source": [
    "### Specify config"
   ]
  },
  {
   "cell_type": "code",
   "execution_count": 2,
   "outputs": [],
   "source": [
    "parameters = {\n",
    "    \"total_timesteps\": 75_000,\n",
    "    \"ent_coef\": 0,\n",
    "    \"learning_rate\": 0.00003,\n",
    "    \"agent\": \"ppo\",\n",
    "    \"save_name\": \"ppo_q2\"\n",
    "}\n",
    "\n",
    "locals().update(parameters)"
   ],
   "metadata": {
    "collapsed": false,
    "ExecuteTime": {
     "end_time": "2023-10-22T15:03:10.829411300Z",
     "start_time": "2023-10-22T15:03:10.792660Z"
    }
   }
  },
  {
   "cell_type": "code",
   "execution_count": null,
   "outputs": [],
   "source": [
    "# Save config to file\n",
    "with open(f\"output/configs/config_{save_name}.json\", 'w') as json_file:\n",
    "    json.dump(parameters, json_file, indent=4)"
   ],
   "metadata": {
    "collapsed": false
   }
  },
  {
   "cell_type": "markdown",
   "metadata": {},
   "source": [
    "### OR Load config"
   ]
  },
  {
   "cell_type": "code",
   "execution_count": 4,
   "metadata": {
    "ExecuteTime": {
     "end_time": "2023-10-17T09:08:27.810392900Z",
     "start_time": "2023-10-17T09:08:27.786857800Z"
    }
   },
   "outputs": [],
   "source": [
    "save_name = \"ppo_q1.1\""
   ]
  },
  {
   "cell_type": "code",
   "execution_count": 5,
   "metadata": {
    "ExecuteTime": {
     "end_time": "2023-10-17T09:08:27.883015400Z",
     "start_time": "2023-10-17T09:08:27.803396300Z"
    }
   },
   "outputs": [],
   "source": [
    "# Load config\n",
    "with open(f\"output/configs/config_{save_name}.json\", 'r') as json_file:\n",
    "    parameters = json.load(json_file)\n",
    "\n",
    "locals().update(parameters)"
   ]
  },
  {
   "cell_type": "markdown",
   "metadata": {},
   "source": [
    "### Load data"
   ]
  },
  {
   "cell_type": "code",
   "execution_count": 2,
   "metadata": {
    "ExecuteTime": {
     "end_time": "2023-10-22T15:09:39.613729Z",
     "start_time": "2023-10-22T15:09:39.186305600Z"
    }
   },
   "outputs": [
    {
     "ename": "NameError",
     "evalue": "name 'wind' is not defined",
     "output_type": "error",
     "traceback": [
      "\u001B[1;31m---------------------------------------------------------------------------\u001B[0m",
      "\u001B[1;31mNameError\u001B[0m                                 Traceback (most recent call last)",
      "Cell \u001B[1;32mIn[2], line 5\u001B[0m\n\u001B[0;32m      2\u001B[0m data_dict \u001B[38;5;241m=\u001B[39m get_data_dict_simple()\n\u001B[0;32m      4\u001B[0m \u001B[38;5;66;03m# Define Microgrid Env\u001B[39;00m\n\u001B[1;32m----> 5\u001B[0m env \u001B[38;5;241m=\u001B[39m MicrogridEnv(data_dict, wind\u001B[38;5;241m=\u001B[39m\u001B[43mwind\u001B[49m, wind_generator\u001B[38;5;241m=\u001B[39mwind_generator, alternative_cost\u001B[38;5;241m=\u001B[39malternative_cost)\n\u001B[0;32m      6\u001B[0m \u001B[38;5;66;03m#env = NormalizeObservation(env)\u001B[39;00m\n",
      "\u001B[1;31mNameError\u001B[0m: name 'wind' is not defined"
     ]
    }
   ],
   "source": [
    "# Load data\n",
    "data_dict = get_data_dict_simple()\n",
    "\n",
    "# Define Microgrid Env\n",
    "env = MicrogridEnv(data_dict)"
   ]
  },
  {
   "cell_type": "markdown",
   "source": [
    "### Define agent"
   ],
   "metadata": {
    "collapsed": false
   }
  },
  {
   "cell_type": "code",
   "execution_count": 3,
   "metadata": {
    "ExecuteTime": {
     "end_time": "2023-10-22T15:09:42.079328900Z",
     "start_time": "2023-10-22T15:09:42.025717900Z"
    }
   },
   "outputs": [
    {
     "ename": "NameError",
     "evalue": "name 'env' is not defined",
     "output_type": "error",
     "traceback": [
      "\u001B[1;31m---------------------------------------------------------------------------\u001B[0m",
      "\u001B[1;31mNameError\u001B[0m                                 Traceback (most recent call last)",
      "Cell \u001B[1;32mIn[3], line 3\u001B[0m\n\u001B[0;32m      1\u001B[0m \u001B[38;5;66;03m# Define the PPO agent\u001B[39;00m\n\u001B[0;32m      2\u001B[0m \u001B[38;5;66;03m# https://stable-baselines3.readthedocs.io/en/master/modules/ppo.html#stable_baselines3.ppo.PPO\u001B[39;00m\n\u001B[1;32m----> 3\u001B[0m model \u001B[38;5;241m=\u001B[39m PPO(\u001B[38;5;124m\"\u001B[39m\u001B[38;5;124mMlpPolicy\u001B[39m\u001B[38;5;124m\"\u001B[39m, \u001B[43menv\u001B[49m, verbose\u001B[38;5;241m=\u001B[39m\u001B[38;5;241m1\u001B[39m, ent_coef\u001B[38;5;241m=\u001B[39ment_coef) \u001B[38;5;66;03m#, learning_rate=0.003\u001B[39;00m\n\u001B[0;32m      4\u001B[0m \u001B[38;5;66;03m#model = A2C(\"MlpPolicy\", env, verbose=1, ent_coef=ent_coef)\u001B[39;00m\n",
      "\u001B[1;31mNameError\u001B[0m: name 'env' is not defined"
     ]
    }
   ],
   "source": [
    "if agent == \"ppo\":\n",
    "    # Define the PPO agent\n",
    "    # https://stable-baselines3.readthedocs.io/en/master/modules/ppo.html\n",
    "    model = PPO(\"MlpPolicy\", env, verbose=1, ent_coef=ent_coef, learning_rate=learning_rate)\n",
    "else:\n",
    "    # Define A2C agent\n",
    "    # https://stable-baselines3.readthedocs.io/en/master/modules/a2c.html\n",
    "    model = A2C(\"MlpPolicy\", env, verbose=1, ent_coef=ent_coef, learning_rate=learning_rate)"
   ]
  },
  {
   "cell_type": "code",
   "execution_count": 8,
   "metadata": {
    "ExecuteTime": {
     "end_time": "2023-10-17T09:08:30.066276600Z",
     "start_time": "2023-10-17T09:08:30.031313500Z"
    }
   },
   "outputs": [],
   "source": [
    "# Specify logger to save training infos\n",
    "logs_path = f\"output/logs/{save_name}\"\n",
    "new_logger = configure(logs_path, [\"json\"])\n",
    "model.set_logger(new_logger)"
   ]
  },
  {
   "cell_type": "markdown",
   "metadata": {},
   "source": [
    "## Training"
   ]
  },
  {
   "cell_type": "code",
   "execution_count": 9,
   "metadata": {
    "tags": [],
    "ExecuteTime": {
     "end_time": "2023-10-17T09:10:54.386692100Z",
     "start_time": "2023-10-17T09:08:30.049281100Z"
    }
   },
   "outputs": [
    {
     "data": {
      "text/plain": "Output()",
      "application/vnd.jupyter.widget-view+json": {
       "version_major": 2,
       "version_minor": 0,
       "model_id": "cff4ad7a416b495c8fddbff8e0c366f1"
      }
     },
     "metadata": {},
     "output_type": "display_data"
    }
   ],
   "source": [
    "# Train the agent\n",
    "render_callback = RenderCallback(env)\n",
    "model.learn(total_timesteps=total_timesteps, callback=render_callback, progress_bar=True)"
   ]
  },
  {
   "cell_type": "code",
   "execution_count": null,
   "outputs": [],
   "source": [
    "# Save training data in csv\n",
    "train_df = pd.DataFrame.from_dict(render_callback.info)\n",
    "train_df.to_csv(f\"output/train_data/{save_name}.csv\")"
   ],
   "metadata": {
    "collapsed": false
   }
  },
  {
   "cell_type": "code",
   "execution_count": null,
   "metadata": {
    "ExecuteTime": {
     "start_time": "2023-10-17T09:10:54.377691700Z"
    }
   },
   "outputs": [],
   "source": [
    "# Get training loss data\n",
    "with open(f\"output/logs/{save_name}/progress.json\", 'r') as file:\n",
    "    data = [json.loads(line) for line in file]\n",
    "loss_data_list = [{key: value for key, value in entry.items() if 'loss' in key} for entry in data]\n",
    "df = pd.DataFrame(loss_data_list).iloc[1:].reset_index(drop=True)\n",
    "\n",
    "print(\"Training time (min.)\", data[-1][\"time/time_elapsed\"]/60)"
   ]
  },
  {
   "cell_type": "code",
   "execution_count": null,
   "metadata": {
    "ExecuteTime": {
     "start_time": "2023-10-17T09:10:54.382688400Z"
    }
   },
   "outputs": [],
   "source": [
    "# Plot loss\n",
    "i = 2\n",
    "df[df.columns[i]].plot(title=df.columns[i])\n",
    "plt.show()"
   ]
  },
  {
   "cell_type": "code",
   "execution_count": null,
   "metadata": {},
   "outputs": [],
   "source": [
    "# Plot mean rewards over training\n",
    "# train_df = pd.read_csv(f\"train_data/{save_name}.csv\")  # to read from file\n",
    "window_size = 10\n",
    "reward_array = train_df.reward.to_numpy()\n",
    "\n",
    "num_rows = -(-len(reward_array) // window_size)\n",
    "padding_elements = num_rows * window_size - len(reward_array)\n",
    "reward_array_padded = np.pad(reward_array, (0, padding_elements), mode='empty')\n",
    "reward_array_aggr = reward_array_padded.reshape(-1, window_size)\n",
    "reward_array_mean = np.mean(reward_array_aggr, axis=1)\n",
    "\n",
    "plt.plot(reward_array_mean)\n",
    "plt.title(f\"Reward moving average over training process ({window_size=})\")\n",
    "plt.show()"
   ]
  },
  {
   "cell_type": "markdown",
   "metadata": {},
   "source": [
    "## Model saving"
   ]
  },
  {
   "cell_type": "code",
   "execution_count": null,
   "metadata": {},
   "outputs": [],
   "source": [
    "# Save the trained model\n",
    "model.save(f\"output/models/model_{save_name}\")"
   ]
  },
  {
   "cell_type": "markdown",
   "metadata": {},
   "source": [
    "## Model loading and testing"
   ]
  },
  {
   "cell_type": "code",
   "execution_count": null,
   "metadata": {},
   "outputs": [],
   "source": [
    "# Reset Microgrid Env\n",
    "env.reset()"
   ]
  },
  {
   "cell_type": "code",
   "execution_count": null,
   "metadata": {},
   "outputs": [],
   "source": [
    "# Load the trained model\n",
    "if agent == \"ppo\":\n",
    "    model = PPO.load(f\"output/models/model_{save_name}\")\n",
    "else:\n",
    "    model = A2C.load(f\"output/models/model_{save_name}\")"
   ]
  },
  {
   "cell_type": "code",
   "execution_count": null,
   "metadata": {
    "collapsed": false,
    "jupyter": {
     "outputs_hidden": false
    }
   },
   "outputs": [],
   "source": [
    "# Test the trained agent\n",
    "test_episodes = 200\n",
    "\n",
    "obs = env.reset()\n",
    "step_info = []\n",
    "\n",
    "for _ in range(test_episodes):  # Test for 1000 steps\n",
    "    action, _ = model.predict(obs)\n",
    "    obs, reward, done, info = env.step(action)\n",
    "\n",
    "    step_info.append(env.render())\n",
    "    \n",
    "step_df = pd.DataFrame.from_dict(step_info)"
   ]
  },
  {
   "cell_type": "markdown",
   "metadata": {},
   "source": [
    "## Analysis"
   ]
  },
  {
   "cell_type": "code",
   "execution_count": null,
   "metadata": {},
   "outputs": [],
   "source": [
    "step_df.drop(step_df.columns[10:19], axis=1)"
   ]
  },
  {
   "cell_type": "code",
   "execution_count": null,
   "metadata": {},
   "outputs": [],
   "source": [
    "step_df.iloc[:,10:19]"
   ]
  },
  {
   "cell_type": "code",
   "execution_count": null,
   "metadata": {},
   "outputs": [],
   "source": [
    "# Count blackouts\n",
    "print(\"absolute:\", sum(step_df.energy_demand > step_df.energy_load))\n",
    "print(\"relative:\", sum(step_df.energy_demand > step_df.energy_load) / test_episodes)"
   ]
  },
  {
   "cell_type": "code",
   "execution_count": null,
   "metadata": {},
   "outputs": [],
   "source": [
    "plt.rcParams[\"figure.figsize\"] = (10,6)"
   ]
  },
  {
   "cell_type": "code",
   "execution_count": null,
   "metadata": {
    "tags": []
   },
   "outputs": [],
   "source": [
    "# Plotting energy produced\n",
    "plt.plot(step_df['energy_generated_generator'], color='darkred', label='generator', alpha=0.7)\n",
    "plt.plot(step_df['discharged'], color='yellow', label='battery', alpha=0.5)\n",
    "plt.plot(step_df['energy_generated_solar'], color='orange', label='solar energy', alpha=1)\n",
    "plt.plot(step_df['energy_generated_wind'], color='darkblue', label='wind energy', alpha=1)\n",
    "\n",
    "# Adding labels and title\n",
    "plt.xlabel('Time')\n",
    "plt.ylabel('Energy (kWh)')\n",
    "plt.title('Energy mix')\n",
    "\n",
    "# Moving legend outside to the right and centering\n",
    "plt.legend(loc='center left', bbox_to_anchor=(1, 0.5))\n",
    "\n",
    "# Show the plot\n",
    "plt.show()"
   ]
  },
  {
   "cell_type": "code",
   "execution_count": null,
   "metadata": {},
   "outputs": [],
   "source": [
    "step_df.reward.describe()"
   ]
  },
  {
   "cell_type": "code",
   "execution_count": null,
   "metadata": {},
   "outputs": [],
   "source": [
    "plt.plot(step_df[\"reward\"])\n",
    "plt.title(\"Reward over test set\")\n",
    "plt.show()"
   ]
  },
  {
   "cell_type": "markdown",
   "metadata": {},
   "source": [
    "## Close"
   ]
  },
  {
   "cell_type": "code",
   "execution_count": null,
   "metadata": {},
   "outputs": [],
   "source": [
    "# Close the environment when done\n",
    "env.close()"
   ]
  }
 ],
 "metadata": {
  "kernelspec": {
   "name": "python3",
   "language": "python",
   "display_name": "Python 3 (ipykernel)"
  },
  "language_info": {
   "codemirror_mode": {
    "name": "ipython",
    "version": 3
   },
   "file_extension": ".py",
   "mimetype": "text/x-python",
   "name": "python",
   "nbconvert_exporter": "python",
   "pygments_lexer": "ipython3",
   "version": "3.10.4"
  }
 },
 "nbformat": 4,
 "nbformat_minor": 4
}
